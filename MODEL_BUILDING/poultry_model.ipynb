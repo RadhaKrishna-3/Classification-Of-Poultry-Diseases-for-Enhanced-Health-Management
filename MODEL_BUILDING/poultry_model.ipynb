{
 "cells": [
  {
   "cell_type": "code",
   "execution_count": 43,
   "metadata": {
    "colab": {
     "base_uri": "https://localhost:8080/"
    },
    "id": "iMVEItUkul_v",
    "outputId": "1c99a3b3-5d17-45f3-96e4-c7674a944748"
   },
   "outputs": [
    {
     "name": "stdout",
     "output_type": "stream",
     "text": [
      "Dataset downloaded to: /kaggle/input/poultry-diseases\n"
     ]
    }
   ],
   "source": [
    "import kagglehub\n",
    "\n",
    "# Download Poultry Disease dataset\n",
    "path = kagglehub.dataset_download(\"chandrashekarnatesh/poultry-diseases\")\n",
    "\n",
    "print(\"Dataset downloaded to:\", path)\n"
   ]
  },
  {
   "cell_type": "code",
   "execution_count": 44,
   "metadata": {
    "id": "BZL7wXTO21dJ"
   },
   "outputs": [],
   "source": [
    "import os\n",
    "import cv2\n",
    "import numpy as np\n",
    "\n",
    "def read_data(folder_path, categories, img_size=(224,224), samples_per_class=200):\n",
    "    X = []\n",
    "    y = []\n",
    "    file_paths = []\n",
    "\n",
    "    for label in categories:\n",
    "        path = os.path.join(folder_path, label)\n",
    "        images = os.listdir(path)[:samples_per_class]\n",
    "        print(f\"Loading {len(images)} images from {label}\")\n",
    "\n",
    "        for img_name in images:\n",
    "            img_path = os.path.join(path, img_name)\n",
    "            img = cv2.imread(img_path)\n",
    "            if img is not None:\n",
    "                img = cv2.resize(img, img_size)\n",
    "                X.append(img)\n",
    "                y.append(label)\n",
    "                file_paths.append(img_path)\n",
    "\n",
    "    return np.array(X), np.array(y), file_paths\n"
   ]
  },
  {
   "cell_type": "code",
   "execution_count": 45,
   "metadata": {
    "id": "Bs_GKcskFKEb"
   },
   "outputs": [],
   "source": [
    "\n",
    "import tensorflow as tf\n",
    "from tensorflow.keras.applications import VGG16, VGG19, ResNet50\n",
    "from tensorflow.keras.models import Model\n",
    "from tensorflow.keras.layers import Dense, Dropout, BatchNormalization, GlobalAveragePooling2D\n",
    "from tensorflow.keras.preprocessing.image import ImageDataGenerator\n",
    "import matplotlib.pyplot as plt\n",
    "import numpy as np\n",
    "import pandas as pd\n",
    "\n",
    "import seaborn as sns\n",
    "from sklearn.metrics import confusion_matrix, classification_report\n"
   ]
  },
  {
   "cell_type": "code",
   "execution_count": 46,
   "metadata": {
    "colab": {
     "base_uri": "https://localhost:8080/"
    },
    "id": "gt0V1xal3W_g",
    "outputId": "551591a4-e187-4a33-a605-0b61607edf8c"
   },
   "outputs": [
    {
     "name": "stdout",
     "output_type": "stream",
     "text": [
      "Loading 200 images from Coccidiosis\n",
      "Loading 200 images from Healthy\n",
      "Loading 200 images from New Castle Disease\n",
      "Loading 200 images from Salmonella\n",
      "Loading 200 images from Coccidiosis\n",
      "Loading 200 images from Healthy\n",
      "Loading 200 images from New Castle Disease\n",
      "Loading 200 images from Salmonella\n",
      "Loading 200 images from Coccidiosis\n",
      "Loading 200 images from Healthy\n",
      "Loading 200 images from New Castle Disease\n",
      "Loading 200 images from Salmonella\n"
     ]
    }
   ],
   "source": [
    "categories = [\"Coccidiosis\", \"Healthy\", \"New Castle Disease\", \"Salmonella\"]\n",
    "\n",
    "train_data_dir = \"/root/.cache/kagglehub/datasets/chandrashekarnatesh/poultry-diseases/versions/3/data/data/train\"\n",
    "val_data_dir = \"/root/.cache/kagglehub/datasets/chandrashekarnatesh/poultry-diseases/versions/3/data/data/val\"\n",
    "test_data_dir = \"/root/.cache/kagglehub/datasets/chandrashekarnatesh/poultry-diseases/versions/3/data/data/test\"\n",
    "\n",
    "# Read 500 per class\n",
    "train_X, train_y, train_paths = read_data(train_data_dir, categories)\n",
    "val_X, val_y, val_paths = read_data(val_data_dir, categories)\n",
    "test_X, test_y, test_paths = read_data(test_data_dir, categories)\n"
   ]
  },
  {
   "cell_type": "code",
   "execution_count": 47,
   "metadata": {
    "id": "KpXoAqattnSh"
   },
   "outputs": [],
   "source": [
    "train_dir = \"/root/.cache/kagglehub/datasets/chandrashekarnatesh/poultry-diseases/versions/3/data/data/train\"\n",
    "val_dir = \"/root/.cache/kagglehub/datasets/chandrashekarnatesh/poultry-diseases/versions/3/data/data/val\"\n",
    "test_dir = \"/root/.cache/kagglehub/datasets/chandrashekarnatesh/poultry-diseases/versions/3/data/data/test\"\n"
   ]
  },
  {
   "cell_type": "code",
   "execution_count": 48,
   "metadata": {
    "id": "vx9lEe1ct9Uk"
   },
   "outputs": [],
   "source": [
    "\n",
    "IMAGE_SIZE = (224, 224)\n",
    "BATCH_SIZE = 32\n",
    "\n",
    "# Initialize ImageDataGenerator\n",
    "gen = ImageDataGenerator(rescale=1./255)"
   ]
  },
  {
   "cell_type": "code",
   "execution_count": 49,
   "metadata": {
    "id": "fzlBtFFuze8_"
   },
   "outputs": [],
   "source": [
    "# Normalize data\n",
    "train_X = train_X / 255.0\n",
    "val_X = val_X / 255.0\n",
    "test_X = test_X / 255.0\n",
    "\n",
    "# Convert labels to categorical\n",
    "from tensorflow.keras.utils import to_categorical\n",
    "\n",
    "label_map = {name: idx for idx, name in enumerate(categories)}\n",
    "train_y_cat = to_categorical([label_map[label] for label in train_y], num_classes=4)\n",
    "val_y_cat = to_categorical([label_map[label] for label in val_y], num_classes=4)\n",
    "test_y_cat = to_categorical([label_map[label] for label in test_y], num_classes=4)\n"
   ]
  },
  {
   "cell_type": "code",
   "execution_count": 50,
   "metadata": {
    "colab": {
     "base_uri": "https://localhost:8080/"
    },
    "id": "GAYBSf2Ezk4Y",
    "outputId": "724b89bb-7cd6-40b5-800e-ce30644e2353"
   },
   "outputs": [
    {
     "name": "stdout",
     "output_type": "stream",
     "text": [
      "Found 400000 images belonging to 4 classes.\n"
     ]
    }
   ],
   "source": [
    "train_gen = gen.flow_from_directory(train_dir, target_size=IMAGE_SIZE, batch_size=BATCH_SIZE, class_mode='categorical', shuffle=True, subset='training')\n"
   ]
  },
  {
   "cell_type": "code",
   "execution_count": 51,
   "metadata": {
    "id": "x7ThiT3f1Cna"
   },
   "outputs": [],
   "source": [
    "vgg = VGG16(input_shape=IMAGE_SIZE + (3,), weights='imagenet', include_top=False)\n",
    "\n",
    "# Freeze base layers\n",
    "for layer in vgg.layers:\n",
    "    layer.trainable = False\n",
    "\n",
    "x = vgg.output\n",
    "x = GlobalAveragePooling2D()(x)\n",
    "x = Dense(1024, activation='relu')(x)\n",
    "x = BatchNormalization()(x)\n",
    "x = Dropout(0.5)(x)\n",
    "x = Dense(512, activation='relu')(x)\n",
    "x = BatchNormalization()(x)\n",
    "x = Dropout(0.5)(x)\n",
    "predictions = Dense(train_gen.num_classes, activation='softmax')(x)\n",
    "\n",
    "model = Model(inputs=vgg.input, outputs=predictions)\n",
    "\n",
    "model.compile(optimizer='adam', loss='categorical_crossentropy', metrics=['accuracy'])\n"
   ]
  },
  {
   "cell_type": "code",
   "execution_count": 52,
   "metadata": {
    "id": "LRs0GXFS1FeQ"
   },
   "outputs": [],
   "source": [
    "early_stopping = tf.keras.callbacks.EarlyStopping(monitor='val_loss', patience=5, restore_best_weights=True)\n",
    "reduce_lr = tf.keras.callbacks.ReduceLROnPlateau(monitor='val_loss', factor=0.2, patience=3, min_lr=1e-5)\n"
   ]
  },
  {
   "cell_type": "code",
   "execution_count": 53,
   "metadata": {
    "colab": {
     "base_uri": "https://localhost:8080/"
    },
    "id": "IpL9sli518kz",
    "outputId": "29084793-b116-4563-9354-acb47f8f153c"
   },
   "outputs": [
    {
     "name": "stdout",
     "output_type": "stream",
     "text": [
      "Epoch 1/5\n",
      "\u001b[1m25/25\u001b[0m \u001b[32m━━━━━━━━━━━━━━━━━━━━\u001b[0m\u001b[37m\u001b[0m \u001b[1m15s\u001b[0m 417ms/step - accuracy: 0.4199 - loss: 2.0555 - val_accuracy: 0.3713 - val_loss: 1.3772\n",
      "Epoch 2/5\n",
      "\u001b[1m25/25\u001b[0m \u001b[32m━━━━━━━━━━━━━━━━━━━━\u001b[0m\u001b[37m\u001b[0m \u001b[1m9s\u001b[0m 371ms/step - accuracy: 0.5288 - loss: 1.5957 - val_accuracy: 0.4450 - val_loss: 1.3464\n",
      "Epoch 3/5\n",
      "\u001b[1m25/25\u001b[0m \u001b[32m━━━━━━━━━━━━━━━━━━━━\u001b[0m\u001b[37m\u001b[0m \u001b[1m9s\u001b[0m 371ms/step - accuracy: 0.5580 - loss: 1.2685 - val_accuracy: 0.3925 - val_loss: 1.3293\n",
      "Epoch 4/5\n",
      "\u001b[1m25/25\u001b[0m \u001b[32m━━━━━━━━━━━━━━━━━━━━\u001b[0m\u001b[37m\u001b[0m \u001b[1m9s\u001b[0m 323ms/step - accuracy: 0.5891 - loss: 1.2814 - val_accuracy: 0.3762 - val_loss: 1.2935\n",
      "Epoch 5/5\n",
      "\u001b[1m25/25\u001b[0m \u001b[32m━━━━━━━━━━━━━━━━━━━━\u001b[0m\u001b[37m\u001b[0m \u001b[1m10s\u001b[0m 325ms/step - accuracy: 0.6072 - loss: 1.1419 - val_accuracy: 0.3850 - val_loss: 1.2877\n"
     ]
    },
    {
     "data": {
      "text/plain": [
       "<keras.src.callbacks.history.History at 0x7aea4f915c90>"
      ]
     },
     "execution_count": 53,
     "metadata": {},
     "output_type": "execute_result"
    }
   ],
   "source": [
    "model.fit(\n",
    "    train_X, train_y_cat,\n",
    "    epochs=5,\n",
    "    validation_data=(val_X, val_y_cat),\n",
    "    batch_size=32\n",
    ")\n"
   ]
  },
  {
   "cell_type": "code",
   "execution_count": 54,
   "metadata": {
    "id": "v72MnfWP35OQ"
   },
   "outputs": [],
   "source": [
    "from tensorflow.keras.applications import VGG19\n",
    "\n",
    "base_vgg19 = VGG19(weights='imagenet', include_top=False, input_shape=(224, 224, 3))\n",
    "base_vgg19.trainable = False  # freeze base model\n"
   ]
  },
  {
   "cell_type": "code",
   "execution_count": 55,
   "metadata": {
    "id": "avmCykwM7VsS"
   },
   "outputs": [],
   "source": [
    "categories = [\"Coccidiosis\", \"Healthy\", \"New Castle Disease\", \"Salmonella\"]\n"
   ]
  },
  {
   "cell_type": "code",
   "execution_count": 56,
   "metadata": {
    "id": "NKgY9-TP6dmS"
   },
   "outputs": [],
   "source": [
    "from tensorflow.keras import layers, models\n",
    "num_classes = 4\n",
    "\n",
    "model_vgg19 = models.Sequential([\n",
    "    base_vgg19,\n",
    "    layers.Flatten(),\n",
    "    layers.Dense(256, activation='relu'),\n",
    "    layers.Dropout(0.5),\n",
    "    layers.Dense(len(categories), activation='softmax')  # 4 classes\n",
    "])\n"
   ]
  },
  {
   "cell_type": "code",
   "execution_count": 57,
   "metadata": {
    "id": "elcUz6P267XH"
   },
   "outputs": [],
   "source": [
    "model_vgg19.compile(optimizer='adam',\n",
    "                    loss='categorical_crossentropy',\n",
    "                    metrics=['accuracy'])\n"
   ]
  },
  {
   "cell_type": "code",
   "execution_count": 58,
   "metadata": {
    "colab": {
     "base_uri": "https://localhost:8080/"
    },
    "id": "aXndqVrL7cWn",
    "outputId": "8629a076-cc22-45a3-e13f-9124a0b07d54"
   },
   "outputs": [
    {
     "name": "stdout",
     "output_type": "stream",
     "text": [
      "Epoch 1/5\n",
      "\u001b[1m25/25\u001b[0m \u001b[32m━━━━━━━━━━━━━━━━━━━━\u001b[0m\u001b[37m\u001b[0m \u001b[1m15s\u001b[0m 500ms/step - accuracy: 0.2984 - loss: 3.2368 - val_accuracy: 0.4675 - val_loss: 1.2578\n",
      "Epoch 2/5\n",
      "\u001b[1m25/25\u001b[0m \u001b[32m━━━━━━━━━━━━━━━━━━━━\u001b[0m\u001b[37m\u001b[0m \u001b[1m10s\u001b[0m 417ms/step - accuracy: 0.4627 - loss: 1.2143 - val_accuracy: 0.5038 - val_loss: 1.1772\n",
      "Epoch 3/5\n",
      "\u001b[1m25/25\u001b[0m \u001b[32m━━━━━━━━━━━━━━━━━━━━\u001b[0m\u001b[37m\u001b[0m \u001b[1m10s\u001b[0m 419ms/step - accuracy: 0.4871 - loss: 1.1433 - val_accuracy: 0.5213 - val_loss: 1.1714\n",
      "Epoch 4/5\n",
      "\u001b[1m25/25\u001b[0m \u001b[32m━━━━━━━━━━━━━━━━━━━━\u001b[0m\u001b[37m\u001b[0m \u001b[1m20s\u001b[0m 415ms/step - accuracy: 0.5115 - loss: 1.0759 - val_accuracy: 0.5225 - val_loss: 1.1259\n",
      "Epoch 5/5\n",
      "\u001b[1m25/25\u001b[0m \u001b[32m━━━━━━━━━━━━━━━━━━━━\u001b[0m\u001b[37m\u001b[0m \u001b[1m20s\u001b[0m 415ms/step - accuracy: 0.5328 - loss: 1.0199 - val_accuracy: 0.5387 - val_loss: 1.0961\n"
     ]
    }
   ],
   "source": [
    "history_vgg19 = model_vgg19.fit(\n",
    "    train_X, train_y_cat,\n",
    "    epochs=5,\n",
    "    validation_data=(val_X, val_y_cat),\n",
    "    batch_size=32,\n",
    "    callbacks=[\n",
    "        tf.keras.callbacks.EarlyStopping(patience=5, restore_best_weights=True)\n",
    "    ]\n",
    ")\n"
   ]
  },
  {
   "cell_type": "code",
   "execution_count": 59,
   "metadata": {
    "id": "zgHVGcRLCPs_"
   },
   "outputs": [],
   "source": [
    "from tensorflow.keras.applications import ResNet50\n",
    "from tensorflow.keras.layers import Flatten, Dense, Dropout\n",
    "from tensorflow.keras.models import Model\n"
   ]
  },
  {
   "cell_type": "code",
   "execution_count": 60,
   "metadata": {
    "id": "KDRm5LtqFRjF"
   },
   "outputs": [],
   "source": [
    "base_model = ResNet50(include_top=False, weights='imagenet', input_shape=(224, 224, 3))\n"
   ]
  },
  {
   "cell_type": "code",
   "execution_count": 61,
   "metadata": {
    "id": "rtnEf-a6FU4i"
   },
   "outputs": [],
   "source": [
    "for layer in base_model.layers:\n",
    "    layer.trainable = False\n",
    "\n"
   ]
  },
  {
   "cell_type": "code",
   "execution_count": 62,
   "metadata": {
    "id": "Jj-CH2s9Fc1V"
   },
   "outputs": [],
   "source": [
    "x = base_model.output\n",
    "x = Flatten()(x)\n",
    "x = Dense(256, activation='relu')(x)\n",
    "x = Dropout(0.5)(x)\n",
    "output = Dense(4, activation='softmax')(x)\n",
    "\n",
    "model_resnet = Model(inputs=base_model.input, outputs=output)\n"
   ]
  },
  {
   "cell_type": "code",
   "execution_count": 63,
   "metadata": {
    "id": "5iM0gRTLFfvq"
   },
   "outputs": [],
   "source": [
    "model_resnet.compile(\n",
    "    optimizer='adam',\n",
    "    loss='categorical_crossentropy',\n",
    "    metrics=['accuracy']\n",
    ")\n"
   ]
  },
  {
   "cell_type": "code",
   "execution_count": 68,
   "metadata": {
    "colab": {
     "base_uri": "https://localhost:8080/"
    },
    "id": "yBSOn_m7LRPD",
    "outputId": "916944f7-5aec-4c2b-a814-ce407b85a9d6"
   },
   "outputs": [
    {
     "name": "stdout",
     "output_type": "stream",
     "text": [
      "Found 1948 validated image filenames belonging to 4 classes.\n",
      "Found 632 validated image filenames belonging to 4 classes.\n"
     ]
    }
   ],
   "source": [
    "from tensorflow.keras.preprocessing.image import ImageDataGenerator\n",
    "from tensorflow.keras.applications.resnet50 import preprocess_input\n",
    "\n",
    "datagen = ImageDataGenerator(preprocessing_function=preprocess_input)\n",
    "\n",
    "train_gen = datagen.flow_from_dataframe(\n",
    "    df_train,\n",
    "    x_col='filename',\n",
    "    y_col='class',\n",
    "    target_size=(224,224),\n",
    "    class_mode='categorical',\n",
    "    batch_size=32\n",
    ")\n",
    "\n",
    "val_gen = datagen.flow_from_dataframe(\n",
    "    df_val,\n",
    "    x_col='filename',\n",
    "    y_col='class',\n",
    "    target_size=(224,224),\n",
    "    class_mode='categorical',\n",
    "    batch_size=32\n",
    ")\n"
   ]
  },
  {
   "cell_type": "code",
   "execution_count": 67,
   "metadata": {
    "colab": {
     "base_uri": "https://localhost:8080/"
    },
    "id": "7CIf0B8PFiyp",
    "outputId": "2088a4f7-e8c4-49f8-cef8-01d448f5355e"
   },
   "outputs": [
    {
     "name": "stderr",
     "output_type": "stream",
     "text": [
      "/usr/local/lib/python3.11/dist-packages/keras/src/trainers/data_adapters/py_dataset_adapter.py:121: UserWarning: Your `PyDataset` class should call `super().__init__(**kwargs)` in its constructor. `**kwargs` can include `workers`, `use_multiprocessing`, `max_queue_size`. Do not pass these arguments to `fit()`, as they will be ignored.\n",
      "  self._warn_if_super_not_called()\n"
     ]
    },
    {
     "name": "stdout",
     "output_type": "stream",
     "text": [
      "Epoch 1/5\n",
      "\u001b[1m61/61\u001b[0m \u001b[32m━━━━━━━━━━━━━━━━━━━━\u001b[0m\u001b[37m\u001b[0m \u001b[1m25s\u001b[0m 407ms/step - accuracy: 0.4903 - loss: 5.5861 - val_accuracy: 0.6630 - val_loss: 0.6222\n",
      "Epoch 2/5\n",
      "\u001b[1m61/61\u001b[0m \u001b[32m━━━━━━━━━━━━━━━━━━━━\u001b[0m\u001b[37m\u001b[0m \u001b[1m7s\u001b[0m 113ms/step - accuracy: 0.6124 - loss: 0.9445 - val_accuracy: 0.7911 - val_loss: 0.4977\n",
      "Epoch 3/5\n",
      "\u001b[1m61/61\u001b[0m \u001b[32m━━━━━━━━━━━━━━━━━━━━\u001b[0m\u001b[37m\u001b[0m \u001b[1m7s\u001b[0m 118ms/step - accuracy: 0.6782 - loss: 0.7320 - val_accuracy: 0.8259 - val_loss: 0.4780\n",
      "Epoch 4/5\n",
      "\u001b[1m61/61\u001b[0m \u001b[32m━━━━━━━━━━━━━━━━━━━━\u001b[0m\u001b[37m\u001b[0m \u001b[1m7s\u001b[0m 116ms/step - accuracy: 0.7300 - loss: 0.6691 - val_accuracy: 0.8370 - val_loss: 0.5022\n",
      "Epoch 5/5\n",
      "\u001b[1m61/61\u001b[0m \u001b[32m━━━━━━━━━━━━━━━━━━━━\u001b[0m\u001b[37m\u001b[0m \u001b[1m10s\u001b[0m 113ms/step - accuracy: 0.7428 - loss: 0.6539 - val_accuracy: 0.8386 - val_loss: 0.4269\n"
     ]
    }
   ],
   "source": [
    "history_resnet = model_resnet.fit(\n",
    "    train_gen,\n",
    "    validation_data=val_gen,\n",
    "    epochs=5\n",
    ")\n"
   ]
  },
  {
   "cell_type": "code",
   "execution_count": 69,
   "metadata": {
    "colab": {
     "base_uri": "https://localhost:8080/",
     "height": 887
    },
    "id": "c98A7y_fF16p",
    "outputId": "0ededee6-24b3-4a38-9cfc-6d3a6a79311d"
   },
   "outputs": [
    {
     "data": {
      "image/png": "[encoded data removed]",
      "text/plain": [
       "<Figure size 640x480 with 1 Axes>"
      ]
     },
     "metadata": {},
     "output_type": "display_data"
    },
    {
     "data": {
      "image/png": "[encoded data removed]",
      "text/plain": [
       "<Figure size 640x480 with 1 Axes>"
      ]
     },
     "metadata": {},
     "output_type": "display_data"
    }
   ],
   "source": [
    "plt.plot(history_resnet.history['accuracy'], label='Train Accuracy')\n",
    "plt.plot(history_resnet.history['val_accuracy'], label='Val Accuracy')\n",
    "plt.legend()\n",
    "plt.title('Accuracy')\n",
    "plt.show()\n",
    "\n",
    "plt.plot(history_resnet.history['loss'], label='Train Loss')\n",
    "plt.plot(history_resnet.history['val_loss'], label='Val Loss')\n",
    "plt.legend()\n",
    "plt.title('Loss')\n",
    "plt.show()\n"
   ]
  },
  {
   "cell_type": "code",
   "execution_count": null,
   "metadata": {},
   "outputs": [],
   "source": []
  }
 ],
 "metadata": {
  "accelerator": "GPU",
  "colab": {
   "gpuType": "T4",
   "provenance": [],
   "toc_visible": true
  },
  "kernelspec": {
   "display_name": "Python [conda env:base] *",
   "language": "python",
   "name": "conda-base-py"
  },
  "language_info": {
   "codemirror_mode": {
    "name": "ipython",
    "version": 3
   },
   "file_extension": ".py",
   "mimetype": "text/x-python",
   "name": "python",
   "nbconvert_exporter": "python",
   "pygments_lexer": "ipython3",
   "version": "3.12.7"
  }
 },
 "nbformat": 4,
 "nbformat_minor": 4
}
